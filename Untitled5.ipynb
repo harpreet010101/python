{
 "cells": [
  {
   "cell_type": "code",
   "execution_count": null,
   "id": "06f80cac-7135-4511-84ff-d478dde212d9",
   "metadata": {},
   "outputs": [],
   "source": [
    "#Functions"
   ]
  },
  {
   "cell_type": "code",
   "execution_count": 10,
   "id": "c23f16d7-a3cf-4ddf-a33f-5009f0ab5452",
   "metadata": {},
   "outputs": [
    {
     "name": "stdout",
     "output_type": "stream",
     "text": [
      "5\n"
     ]
    }
   ],
   "source": [
    "\n",
    "def my_function(x,y):\n",
    "    sum = x+y\n",
    "    print(sum)\n",
    "my_function(2,3)"
   ]
  },
  {
   "cell_type": "code",
   "execution_count": 30,
   "id": "62966e9b-2b33-46b0-bd72-e4a6925116ba",
   "metadata": {},
   "outputs": [
    {
     "name": "stdout",
     "output_type": "stream",
     "text": [
      "the sum is 5\n"
     ]
    }
   ],
   "source": [
    "def add(x,y):\n",
    "    result = x+y\n",
    "    return result\n",
    "number1 = 2\n",
    "number2 = 3\n",
    "result = add(number1, number2)\n",
    "print(\"the sum is\", result)  \n",
    "    "
   ]
  },
  {
   "cell_type": "code",
   "execution_count": 33,
   "id": "fc232a4f-f522-4843-b2e4-a98522875418",
   "metadata": {},
   "outputs": [
    {
     "name": "stdout",
     "output_type": "stream",
     "text": [
      "6\n",
      "346\n"
     ]
    }
   ],
   "source": [
    "marks = (33,56,67,34,67,89)\n",
    "length =len(marks)\n",
    "print(length)\n",
    "mark_sum = sum(marks)\n",
    "print(mark_sum)\n"
   ]
  },
  {
   "cell_type": "code",
   "execution_count": 65,
   "id": "10fb6d49-c42c-4c94-b323-22b4c03452d1",
   "metadata": {},
   "outputs": [
    {
     "name": "stdout",
     "output_type": "stream",
     "text": [
      "61.333333333333336\n",
      "B\n"
     ]
    }
   ],
   "source": [
    "#function to find average marks\n",
    "def find_average(marks):\n",
    "    sum_of_marks = sum(marks)\n",
    "    total_subjects = len(marks)\n",
    "    average_marks = sum_of_marks / total_subjects\n",
    "    return average_marks\n",
    "\n",
    "#calculate the grade and return it\n",
    "def compute_grade(average_marks):\n",
    "    if average_marks >= 80:\n",
    "        grade = 'A'\n",
    "    elif average_marks >= 60:\n",
    "        grade ='B'\n",
    "    elif average_marks >= 50:\n",
    "        grade = 'C'\n",
    "    else:\n",
    "        grade = 'F'\n",
    "    return grade   \n",
    "\n",
    "marks = [55,56,67,34,67,89]\n",
    "\n",
    "average_marks = find_average(marks)\n",
    "print(average_marks)\n",
    "\n",
    "grade = compute_grade(average_marks)\n",
    "print(grade)\n",
    "\n"
   ]
  },
  {
   "cell_type": "code",
   "execution_count": 70,
   "id": "2808a676-fa59-4ba7-99c9-cac7b0f48f40",
   "metadata": {},
   "outputs": [
    {
     "name": "stdout",
     "output_type": "stream",
     "text": [
      "17\n",
      "72\n"
     ]
    }
   ],
   "source": [
    "#adding two number\n",
    "def add_number(x,y):\n",
    "    addnum = x + y\n",
    "    return(addnum)\n",
    "\n",
    "def multiply_number(num1,num2):\n",
    "    multi = num1 * num2\n",
    "    return(multi)\n",
    "\n",
    "num1 = 8\n",
    "num2 = 9\n",
    "add = add_number(num1, num2)\n",
    "print(add)\n",
    "\n",
    "multi = multiply_number(num1,num2)\n",
    "print(multi)"
   ]
  },
  {
   "cell_type": "code",
   "execution_count": 74,
   "id": "f0b7c44a-ba38-49cd-972c-595d85838ece",
   "metadata": {},
   "outputs": [
    {
     "name": "stdout",
     "output_type": "stream",
     "text": [
      "5\n",
      "['gg', 'tt', 'aaa', 'hhhhh', 'zzzzzzz']\n"
     ]
    }
   ],
   "source": [
    "#lambda function\n",
    "larger = lambda a,b: a if a>b else b\n",
    "print(larger(4,5))\n",
    "\n",
    "name = ['aaa','gg','hhhhh','zzzzzzz','tt']\n",
    "name.sort(key = lambda x:len(x))\n",
    "print(name)"
   ]
  },
  {
   "cell_type": "code",
   "execution_count": 78,
   "id": "697c9d78-fee2-4e6f-bd25-577faf2980b6",
   "metadata": {},
   "outputs": [
    {
     "name": "stdout",
     "output_type": "stream",
     "text": [
      "5.477225575051661\n",
      "3.141592653589793\n"
     ]
    }
   ],
   "source": [
    "#modules\n",
    "import math as m\n",
    "\n",
    "number =30\n",
    "result = m.sqrt(number)\n",
    "print(result)\n",
    "print(m.pi)"
   ]
  },
  {
   "cell_type": "code",
   "execution_count": 82,
   "id": "ca21278f-0ae5-4464-a87e-0d747a4bed7f",
   "metadata": {},
   "outputs": [
    {
     "name": "stdout",
     "output_type": "stream",
     "text": [
      "1.0\n",
      "8.0\n"
     ]
    }
   ],
   "source": [
    "from math import  * #pi, sin, sqrt\n",
    "value = sin(pi/2)\n",
    "print(value)\n",
    "num = sqrt(64)\n",
    "print(num)"
   ]
  },
  {
   "cell_type": "code",
   "execution_count": 84,
   "id": "b16d060e-302a-4f50-ac82-824c3a44c146",
   "metadata": {},
   "outputs": [
    {
     "name": "stdout",
     "output_type": "stream",
     "text": [
      "['__doc__', '__file__', '__loader__', '__name__', '__package__', '__spec__', 'acos', 'acosh', 'asin', 'asinh', 'atan', 'atan2', 'atanh', 'ceil', 'comb', 'copysign', 'cos', 'cosh', 'degrees', 'dist', 'e', 'erf', 'erfc', 'exp', 'expm1', 'fabs', 'factorial', 'floor', 'fmod', 'frexp', 'fsum', 'gamma', 'gcd', 'hypot', 'inf', 'isclose', 'isfinite', 'isinf', 'isnan', 'isqrt', 'ldexp', 'lgamma', 'log', 'log10', 'log1p', 'log2', 'modf', 'nan', 'perm', 'pi', 'pow', 'prod', 'radians', 'remainder', 'sin', 'sinh', 'sqrt', 'tan', 'tanh', 'tau', 'trunc']\n"
     ]
    }
   ],
   "source": [
    "import math \n",
    "print(dir(math))"
   ]
  },
  {
   "cell_type": "code",
   "execution_count": 98,
   "id": "ea49fa57-ba3e-476e-8859-aa4dc0c40f91",
   "metadata": {},
   "outputs": [
    {
     "name": "stdout",
     "output_type": "stream",
     "text": [
      "33.8\n"
     ]
    }
   ],
   "source": [
    "#Q2 Write Python function the takes a celsius temprature\n",
    "#and converts it into fahrenheit\n",
    "\n",
    "def my_function(cel):\n",
    "    fahrenheit = cel *33.8\n",
    "    return(fahrenheit)  \n",
    "print(my_function(1))\n",
    "\n"
   ]
  },
  {
   "cell_type": "code",
   "execution_count": 99,
   "id": "7b79ae20-3e62-4b16-b6f9-f872658723ae",
   "metadata": {},
   "outputs": [
    {
     "name": "stdout",
     "output_type": "stream",
     "text": [
      "7\n"
     ]
    }
   ],
   "source": [
    "#Q3 Write a Python function to find the Max of three numbers\n",
    "\n",
    "def max_num(x):\n",
    "    sum = max(x)\n",
    "    return(sum)\n",
    "x2 = [3,5,7]\n",
    "print(max_num(x2))\n",
    "\n",
    "   "
   ]
  },
  {
   "cell_type": "code",
   "execution_count": 104,
   "id": "7a9c62a1-ea04-4a23-998e-33a1b030b3c6",
   "metadata": {},
   "outputs": [
    {
     "name": "stdout",
     "output_type": "stream",
     "text": [
      "6\n"
     ]
    }
   ],
   "source": [
    "#Q4 Write a Python function to check whether a number\n",
    "#is in a given range [5,12]\n",
    "\n",
    "def test_range(n):\n",
    "    if n in range(5,12):\n",
    "        print(n)\n",
    "    else:\n",
    "        print(\"none\")\n",
    "test_range(6)\n",
    "    "
   ]
  },
  {
   "cell_type": "code",
   "execution_count": 106,
   "id": "d79efd69-a985-4efc-afbe-3c44a72c16f1",
   "metadata": {},
   "outputs": [
    {
     "name": "stdout",
     "output_type": "stream",
     "text": [
      "{1, 2, 3, 4, 5}\n"
     ]
    }
   ],
   "source": [
    "#Q5 Write a Python function that takes a list\n",
    "#and returns a new list with unique elements of the first\n",
    "\n",
    "def list(x):\n",
    "    list = set(x)\n",
    "    return(list)\n",
    "Sample_List = [1,2,3,3,3,3,4,5]\n",
    "unique = list(Sample_List)\n",
    "print(unique)\n",
    "    "
   ]
  },
  {
   "cell_type": "code",
   "execution_count": 123,
   "id": "a573279e-7808-435a-a691-b7d3bf05342a",
   "metadata": {},
   "outputs": [
    {
     "name": "stdout",
     "output_type": "stream",
     "text": [
      "true\n"
     ]
    }
   ],
   "source": [
    "#Q6 Given a list of numbers, return True if first\n",
    "#and last number of a list is same\n",
    "#list1=[1,2,5,4,1]\n",
    "#list2=[5,6,3,2,1]\n",
    "#list3=[88,44,55,66,77,88]\n",
    "\n",
    "def list1_number(num_list):\n",
    "    first_element =num_list[0]\n",
    "    last_element= num_list[-1]\n",
    "    if(first_element ==last_element):\n",
    "        print(\"true\")\n",
    "    else:\n",
    "        print(\"false\")\n",
    "        \n",
    "list1=[1,2,5,4,1]  \n",
    "list1_number(list1)     \n",
    "       "
   ]
  },
  {
   "cell_type": "code",
   "execution_count": null,
   "id": "f04747fa-fe17-4b54-a58d-1d8516f3ebdc",
   "metadata": {},
   "outputs": [],
   "source": []
  },
  {
   "cell_type": "code",
   "execution_count": null,
   "id": "b2d7f4dc-84dd-4ef5-850e-c971cfbb32c8",
   "metadata": {},
   "outputs": [],
   "source": []
  }
 ],
 "metadata": {
  "kernelspec": {
   "display_name": "Python 3",
   "language": "python",
   "name": "python3"
  },
  "language_info": {
   "codemirror_mode": {
    "name": "ipython",
    "version": 3
   },
   "file_extension": ".py",
   "mimetype": "text/x-python",
   "name": "python",
   "nbconvert_exporter": "python",
   "pygments_lexer": "ipython3",
   "version": "3.8.8"
  }
 },
 "nbformat": 4,
 "nbformat_minor": 5
}
